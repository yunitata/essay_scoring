{
 "cells": [
  {
   "cell_type": "markdown",
   "metadata": {
    "collapsed": false
   },
   "source": [
    "# Automatic Short Answer Scoring menggunakan Python \n",
    "Ada beberapa tahapan yang diperlukan dalam pengembangan sistem, yaitu:\n",
    "1. Preparation\n",
    "2. Pre-processing\n",
    "3. Ekstraksi Fitur\n",
    "4. Learning\n",
    "5. Analisa Hasil\n",
    "\n",
    "Pada experiment ini kita akan menggunakan dua dataset, Maccu Pichu dan Jaket\n",
    "\n",
    "## 1. Preparation\n",
    "Dalam tahap preparation, kita perlu mempersiapkan kamus *stopwords* terlebih dahulu.\n",
    "* Stopwords merupakan kata-kata yang biasanya tidak signifikan secara makna (non-content words) (i.e. yang, dari, ke, dia, kamu, etc). Kita bisa juga menambahkan dalam list *stopwords* , kata-kata yang tidak baku (yg, karna). Stopwords di list dalam file **stopwords.txt**\n",
    "\n",
    "Selain itu data essay (Maccu Pichu/Jaket) juga di-import terlebih dahulu.\n"
   ]
  },
  {
   "cell_type": "code",
   "execution_count": 36,
   "metadata": {
    "collapsed": false
   },
   "outputs": [
    {
     "name": "stdout",
     "output_type": "stream",
     "text": [
      "/home/yunita/Data/Project/essay_scoring/Dataset/macu_picu/maccu-piccu_rescore.xlsx\n",
      "6618\n",
      "6618\n",
      "set([0, 1])\n"
     ]
    }
   ],
   "source": [
    "import sys\n",
    "import numpy as np\n",
    "import csv\n",
    "import pandas as pd\n",
    "\n",
    "# maccu pichu dataset\n",
    "filename = \"/home/yunita/Data/Project/essay_scoring/Dataset/macu_picu/maccu-piccu_rescore.xlsx\"\n",
    "df = pd.read_excel(filename, sheetname='Sheet1', header=0)\n",
    "df_ = df[df['rescore_original'] != 9]  # membuang row yang kosong\n",
    "ans1 = np.array(df_['fte_data1'])\n",
    "ans2 = np.array(df_['fte_data2'])\n",
    "label = np.array(df_['rescore_ori'])\n",
    "\n",
    "print filename\n",
    "print len(ans1)\n",
    "print len(ans2)\n",
    "print set(label)"
   ]
  },
  {
   "cell_type": "code",
   "execution_count": 66,
   "metadata": {
    "collapsed": false
   },
   "outputs": [
    {
     "name": "stdout",
     "output_type": "stream",
     "text": [
      "/home/yunita/Data/Project/essay_scoring/Dataset/jaket/Skor_Jaket_Ulang.xlsx\n",
      "3043\n",
      "set([0, 11, 12])\n"
     ]
    }
   ],
   "source": [
    "# jaket dataset\n",
    "file_jaket = \"/home/yunita/Data/Project/essay_scoring/Dataset/jaket/Skor_Jaket_Ulang.xlsx\"\n",
    "df_jaket = pd.read_excel(file_jaket, sheetname='Sheet1', header=0)\n",
    "df_jaket_ = df_jaket[df_jaket['rescore'] != 9]  # membuang row yang kosong\n",
    "answer_jaket = np.array(df_jaket_['fte_data_extract'])\n",
    "label_jaket = np.array(df_jaket_['rescore'])\n",
    "\n",
    "print file_jaket\n",
    "print len(answer_jaket)\n",
    "print set(label_jaket)"
   ]
  },
  {
   "cell_type": "markdown",
   "metadata": {
    "collapsed": true
   },
   "source": [
    "Memanggil kamus *stopwords* yang terdiri dari 766 kata. "
   ]
  },
  {
   "cell_type": "code",
   "execution_count": 73,
   "metadata": {
    "collapsed": false
   },
   "outputs": [
    {
     "name": "stdout",
     "output_type": "stream",
     "text": [
      "766\n"
     ]
    }
   ],
   "source": [
    "fstopw = open('/home/yunita/Data/Code/essay_scoring/stopwords.txt','r')\n",
    "stopw = set([w for w in fstopw])\n",
    "stopadd = ['karena','dia','adalah','jadi','yg','dan','ia','ini', 'di']\n",
    "for s in stopadd:\n",
    "  stopw.add(s)\n",
    "print (len(stopw))"
   ]
  },
  {
   "cell_type": "markdown",
   "metadata": {},
   "source": [
    "## 2. Pre-processing\n",
    "Setelah data di-import dan kamus stopword sudah dipersiapkan, maka tahap berikutnya adalah melakukan pre-processing dengan membuang semua *stopwords* dan menyeragamkan jawaban dalam huruf kecil (*lowercasing*), untuk meminimalisir perbedaan penulisan jawaban.\n"
   ]
  },
  {
   "cell_type": "code",
   "execution_count": 74,
   "metadata": {
    "collapsed": false
   },
   "outputs": [],
   "source": [
    "# maccu pichu dataset\n",
    "answer = []\n",
    "for i in range(len(label)):\n",
    "    ans = []\n",
    "    if ans1[i] is np.nan:\n",
    "        ans = ans2[i]\n",
    "    elif ans2[i] is np.nan:\n",
    "        ans = ans1[i]\n",
    "    else:\n",
    "        ans = ans1[i]+ans2[i]\n",
    "    ans_lower = ans.lower()\n",
    "    ans_stop = [word for word in ans_lower.split() if word not in stopw]\n",
    "    answer.append(' '.join(ans_stop))"
   ]
  },
  {
   "cell_type": "code",
   "execution_count": 75,
   "metadata": {
    "collapsed": true
   },
   "outputs": [],
   "source": [
    "# jaket dataset\n",
    "answ_jaket = []\n",
    "for i in range(len(label_jaket)):\n",
    "    ans_jaket_lower = answer_jaket[i].lower()\n",
    "    ans_jaket_stop = [word for word in ans_jaket_lower.split() if word not in stopw]\n",
    "    answ_jaket.append(' '.join(ans_jaket_stop))"
   ]
  },
  {
   "cell_type": "markdown",
   "metadata": {},
   "source": [
    "### Kata yang paling banyak ditemukan untuk masing-masing dataset\n",
    "dengan menggunakan bar plot kita bisa melihat kata apa yang paling sering muncul pada masing-masing dataset."
   ]
  },
  {
   "cell_type": "code",
   "execution_count": 90,
   "metadata": {
    "collapsed": false
   },
   "outputs": [
    {
     "data": {
      "text/plain": [
       "<matplotlib.axes.AxesSubplot at 0x7fafa11d82d0>"
      ]
     },
     "execution_count": 90,
     "metadata": {},
     "output_type": "execute_result"
    },
    {
     "data": {
      "image/png": "[encoded data removed]",
      "text/plain": [
       "<matplotlib.figure.Figure at 0x7fafa4794d50>"
      ]
     },
     "metadata": {},
     "output_type": "display_data"
    },
    {
     "data": {
      "image/png": "[encoded data removed]",
      "text/plain": [
       "<matplotlib.figure.Figure at 0x7fafa0e2ee50>"
      ]
     },
     "metadata": {},
     "output_type": "display_data"
    }
   ],
   "source": [
    "%matplotlib inline\n",
    "import matplotlib\n",
    "from collections import Counter\n",
    "import matplotlib.pyplot as plt\n",
    "\n",
    "#maccu pichu\n",
    "word_list = \" \"\n",
    "for ans in answer:\n",
    "    word_list += ans\n",
    "all_words = word_list.split(\" \")\n",
    "counts_words = Counter(all_words).most_common(10)\n",
    "df_words = pd.DataFrame(counts_words, columns = ['Word', 'Count'])\n",
    "df_words.plot(x='Word',y='Count', kind='bar', title='Maccu Pichu')\n",
    "\n",
    "#jaket\n",
    "word_list_jaket = \" \"\n",
    "for ans in answ_jaket:\n",
    "    word_list_jaket += ans\n",
    "all_words_jaket = word_list_jaket.split(\" \")\n",
    "counts_words_jaket = Counter(all_words_jaket).most_common(10)\n",
    "df_words_jaket = pd.DataFrame(counts_words_jaket, columns = ['Word', 'Count'])\n",
    "df_words_jaket.plot(x='Word',y='Count', kind='bar', title='Jaket')"
   ]
  },
  {
   "cell_type": "markdown",
   "metadata": {},
   "source": [
    "## 3. Ekstraksi Fitur\n",
    "Tahap berikutnya adalah ekstraksi fitur. Untuk eksperimen kali ini, kita akan menggunakan frekuensi kata yang terdapat pada jawaban sebagai fitur. Untuk ekstraksi fitur, digunakan salah satu python library yang disebut Scikit Learn"
   ]
  },
  {
   "cell_type": "code",
   "execution_count": 52,
   "metadata": {
    "collapsed": false
   },
   "outputs": [],
   "source": [
    "from sklearn.feature_extraction.text import CountVectorizer\n",
    "count_vect = CountVectorizer(analyzer=\"word\", ngram_range=(1,1))\n",
    "train_data = count_vect.fit_transform(answer)"
   ]
  },
  {
   "cell_type": "code",
   "execution_count": 53,
   "metadata": {
    "collapsed": true
   },
   "outputs": [],
   "source": [
    "train_data_jaket = count_vect.fit_transform(answ_jaket)"
   ]
  },
  {
   "cell_type": "markdown",
   "metadata": {},
   "source": [
    "## 4. Learning\n",
    "Tahap selanjutnya adalah learning dengan mengimplementasikan algoritma machine learning. Kita bisa mencoba beberapa algoritma dengan *cross-validation* untuk melihat algoritma mana yang paling optimal. Pada experiment dengan menggunakan 5-cross validation, dengan 4 metode yang berbeda, diperoleh akurasi tertinggi yaitu **97.23%** pada dataset Maccu Pichu dan **71.18%** pada dataset Jaket dengan menggunakan Ada Boost Classifier.\n",
    "\n",
    "| Classifier        | Maccu Pichu           | Jaket  |\n",
    "| ------------- |:-------------:| :-----:|\n",
    "| Naive Bayes      | 94.68% | 62.40% |\n",
    "| SVM      | 95.30%      |   64.73% |\n",
    "| Random Forest | 61.96%      |    58.10% |\n",
    "| AdaBoost | **97.23%**      |    **71.18%** |\n"
   ]
  },
  {
   "cell_type": "code",
   "execution_count": 54,
   "metadata": {
    "collapsed": false
   },
   "outputs": [
    {
     "name": "stdout",
     "output_type": "stream",
     "text": [
      "('Naive Bayes:', 0.9468109986867814)\n",
      "('SVM:', 0.9530045832744669)\n",
      "('Random Forest:', 0.6196752814130522)\n",
      "('Ada Boost:', 0.9723462144565719)\n"
     ]
    }
   ],
   "source": [
    "from sklearn.feature_extraction.text import CountVectorizer\n",
    "from sklearn.naive_bayes import MultinomialNB\n",
    "from sklearn.model_selection import cross_val_score\n",
    "from sklearn import svm\n",
    "from sklearn.ensemble import RandomForestClassifier, AdaBoostClassifier\n",
    "\n",
    "clf1 = MultinomialNB()\n",
    "clf2 = svm.SVC(probability=True, random_state=0)\n",
    "clf3 = RandomForestClassifier(max_depth=5, n_estimators=10, max_features=1)\n",
    "clf4 = AdaBoostClassifier()\n",
    "\n",
    "print (\"Naive Bayes:\", np.mean(cross_val_score(clf1, train_data, label, scoring='accuracy',cv=5))) \n",
    "print (\"SVM:\", np.mean(cross_val_score(clf2, train_data, label, scoring='accuracy',cv=5))) \n",
    "print (\"Random Forest:\", np.mean(cross_val_score(clf3, train_data, label, scoring='accuracy',cv=5))) \n",
    "print (\"Ada Boost:\", np.mean(cross_val_score(clf4, train_data, label, scoring='accuracy',cv=5))) "
   ]
  },
  {
   "cell_type": "code",
   "execution_count": 55,
   "metadata": {
    "collapsed": false
   },
   "outputs": [
    {
     "name": "stdout",
     "output_type": "stream",
     "text": [
      "('Naive Bayes:', 0.624042562603431)\n",
      "('SVM:', 0.6473827567842573)\n",
      "('Random Forest:', 0.5810060300281614)\n",
      "('Ada Boost:', 0.7118344054026429)\n"
     ]
    }
   ],
   "source": [
    "print (\"Naive Bayes:\", np.mean(cross_val_score(clf1, train_data_jaket, label_jaket, scoring='accuracy',cv=5))) \n",
    "print (\"SVM:\", np.mean(cross_val_score(clf2, train_data_jaket, label_jaket, scoring='accuracy',cv=5))) \n",
    "print (\"Random Forest:\", np.mean(cross_val_score(clf3, train_data_jaket, label_jaket, scoring='accuracy',cv=5))) \n",
    "print (\"Ada Boost:\", np.mean(cross_val_score(clf4, train_data_jaket, label_jaket, scoring='accuracy',cv=5))) "
   ]
  },
  {
   "cell_type": "markdown",
   "metadata": {},
   "source": [
    "### Efek menggunakan fitur yang berbeda\n",
    "Jika pada experiment yang pertama, kita menggunakan frekuensi kata sebagai fitur, maka kali ini kita akan mencoba menggunakan fitur yang berbeda. Fitur yang akan kita gunakan adalah frekuensi dari *character tri-grams*. Dengan menggunakan fitur character tri-grams diperoleh akurasi yang lebih baik terutama pada dataset Maccu Pichu. Akurasi terbaik diperoleh dengan AdaBoost classifier dengan **97.79%** untuk Maccu Pichu dan **71.27%** untuk Jaket.\n",
    "\n",
    "| Classifier        | Maccu Pichu           | Jaket  |\n",
    "| ------------- |:-------------:| :-----:|\n",
    "| Naive Bayes      | 96.19% | 59.94% |\n",
    "| SVM      | 97.00%      |   70.88% |\n",
    "| Random Forest | 71.09%      |    58.10% |\n",
    "| AdaBoost | **97.79%**      |    **71.27%** |\n"
   ]
  },
  {
   "cell_type": "code",
   "execution_count": 57,
   "metadata": {
    "collapsed": true
   },
   "outputs": [],
   "source": [
    "count_vect_trigram = CountVectorizer(analyzer=\"char\", ngram_range=(3,3))\n",
    "train_data_trigram = count_vect_trigram.fit_transform(answer)\n",
    "train_data_jaket_trigram = count_vect_trigram.fit_transform(answ_jaket)"
   ]
  },
  {
   "cell_type": "code",
   "execution_count": 91,
   "metadata": {
    "collapsed": false
   },
   "outputs": [
    {
     "name": "stdout",
     "output_type": "stream",
     "text": [
      "Maccu Pichu\n",
      "--------------------\n",
      "('Naive Bayes:', 0.9619195983142858)\n",
      "('SVM:', 0.9700790976444921)\n",
      "('Random Forest:', 0.7109720748788346)\n",
      "('Ada Boost:', 0.9779377376112744)\n",
      " --------------------\n",
      "Jaket\n",
      "--------------------\n",
      "('Naive Bayes:', 0.5994195579902725)\n",
      "('SVM:', 0.7088274300809723)\n",
      "('Random Forest:', 0.5810060300281614)\n",
      "('Ada Boost:', 0.7127980390136466)\n"
     ]
    }
   ],
   "source": [
    "print \"Maccu Pichu\"\n",
    "print \"--------------------\"\n",
    "print (\"Naive Bayes:\", np.mean(cross_val_score(clf1, train_data_trigram, label, scoring='accuracy',cv=5))) \n",
    "print (\"SVM:\", np.mean(cross_val_score(clf2, train_data_trigram, label, scoring='accuracy',cv=5))) \n",
    "print (\"Random Forest:\", np.mean(cross_val_score(clf3, train_data_trigram, label, scoring='accuracy',cv=5))) \n",
    "print (\"Ada Boost:\", np.mean(cross_val_score(clf4, train_data_trigram, label, scoring='accuracy',cv=5))) \n",
    "\n",
    "print \" --------------------\"\n",
    "print \"Jaket\"\n",
    "print \"--------------------\"\n",
    "print (\"Naive Bayes:\", np.mean(cross_val_score(clf1, train_data_jaket_trigram, label_jaket, scoring='accuracy',cv=5))) \n",
    "print (\"SVM:\", np.mean(cross_val_score(clf2, train_data_jaket_trigram, label_jaket, scoring='accuracy',cv=5))) \n",
    "print (\"Random Forest:\", np.mean(cross_val_score(clf3, train_data_jaket_trigram, label_jaket, scoring='accuracy',cv=5))) \n",
    "print (\"Ada Boost:\", np.mean(cross_val_score(clf4, train_data_jaket_trigram, label_jaket, scoring='accuracy',cv=5))) "
   ]
  },
  {
   "cell_type": "markdown",
   "metadata": {
    "collapsed": true
   },
   "source": [
    "### Efek training size yang berbeda\n",
    "Kita juga ingin melihat bagaimana jika data training yang tersedia hanya sedikit. Kita bisa mensimulasikan dengan mengambil sekitar proporsi yang berbeda dari data sebagai data training dan selebihnya sebagai data test. Secara umum, akurasi masih baik (dengan sedikit penurunan) meskipun training size yang digunakan kecil.\n",
    "\n",
    "| Training portion | Maccu Pichu   | Jaket  |\n",
    "| :-------------: |:-------------:| :-----:|\n",
    "| 0.9           | 97.73%        | 75.73% |\n",
    "| 0.8           | 97.80%        | 73.89% |\n",
    "| 0.7           | 97.98%        |    73.49% |\n",
    "| 0.6           | 97.88%         | 70.60%   |\n",
    "| 0.5           | 98.03%         | 72.07%    |\n",
    "| 0.4           | 98.13%         | 69.98%    |\n",
    "| 0.3           | 98.01%         | 69.21%   |\n",
    "| 0.2           | 97.96%         | 68.74%    |\n",
    "| 0.1           | 97.61%         | 65.20%    |\n"
   ]
  },
  {
   "cell_type": "code",
   "execution_count": 51,
   "metadata": {
    "collapsed": false
   },
   "outputs": [
    {
     "name": "stdout",
     "output_type": "stream",
     "text": [
      "Maccu Pichu\n",
      "---------------------------------\n",
      "train_size: 0.9 akurasi: 0.9773413897280967\n",
      "train_size: 0.8 akurasi: 0.9780966767371602\n",
      "train_size: 0.7 akurasi: 0.9798590130916415\n",
      "train_size: 0.6 akurasi: 0.9788519637462235\n",
      "train_size: 0.5 akurasi: 0.9803566032033847\n",
      "train_size: 0.4 akurasi: 0.9813648954923193\n",
      "train_size: 0.3 akurasi: 0.9801424562918195\n",
      "train_size: 0.2 akurasi: 0.9796033994334278\n",
      "train_size: 0.1 akurasi: 0.9761624979016283\n",
      "----------------------------------\n",
      "Jaket\n",
      "----------------------------------\n",
      "train_size: 0.9 akurasi: 0.7573770491803279\n",
      "train_size: 0.8 akurasi: 0.7389162561576355\n",
      "train_size: 0.7 akurasi: 0.7349397590361446\n",
      "train_size: 0.6 akurasi: 0.7060755336617406\n",
      "train_size: 0.5 akurasi: 0.7207621550591328\n",
      "train_size: 0.4 akurasi: 0.6998904709748083\n",
      "train_size: 0.3 akurasi: 0.6921633036133271\n",
      "train_size: 0.2 akurasi: 0.6874743326488706\n",
      "train_size: 0.1 akurasi: 0.6520627966411099\n"
     ]
    }
   ],
   "source": [
    "from sklearn.model_selection import train_test_split\n",
    "from sklearn.metrics import accuracy_score\n",
    "np.random.seed(1337)\n",
    "\n",
    "training_size = [0.9, 0.8, 0.7, 0.6, 0.5, 0.4, 0.3, 0.2, 0.1]\n",
    "print \"Maccu Pichu\"\n",
    "print \"---------------------------------\"\n",
    "for k in training_size:\n",
    "    X_train, X_test, y_train, y_test = train_test_split(train_data, label, train_size=k, random_state=42, shuffle=True)\n",
    "    clf4.fit(X_train, y_train)\n",
    "    y_pred = clf4.predict(X_test)\n",
    "    acc = accuracy_score(y_test, y_pred)\n",
    "    print 'train_size:', k, 'akurasi:', acc\n",
    "\n",
    "print \"----------------------------------\"\n",
    "print \"Jaket\"\n",
    "print \"----------------------------------\"\n",
    "for k in training_size:\n",
    "    X_train_jaket, X_test_jaket, y_train_jaket, y_test_jaket = train_test_split(train_data_jaket, label_jaket, train_size=k, random_state=42, shuffle=True)\n",
    "    clf4.fit(X_train_jaket, y_train_jaket)\n",
    "    y_pred_jaket = clf4.predict(X_test_jaket)\n",
    "    acc_jaket = accuracy_score(y_test_jaket, y_pred_jaket)\n",
    "    print 'train_size:', k, 'akurasi:', acc_jaket\n"
   ]
  },
  {
   "cell_type": "markdown",
   "metadata": {},
   "source": [
    "## 5. Analisa Hasil\n",
    "Kita bisa menganalisa hasil klasifikasi dengan menggunakan confusion matriks. Kita akan mencoba menganalisa hasil klasifikasi pada dataset Jaket. Dari confusion matriks bisa diketahui bahwa, sistem masih banyak keliru dalam memprediksi kelas 11 dan 12. Bisa dikarenakan karena jumlah sampel yang tidak *balance* untuk setiap kelas."
   ]
  },
  {
   "cell_type": "code",
   "execution_count": 95,
   "metadata": {
    "collapsed": false
   },
   "outputs": [
    {
     "data": {
      "image/png": "[encoded data removed]",
      "text/plain": [
       "<matplotlib.figure.Figure at 0x7fafa16cce90>"
      ]
     },
     "metadata": {},
     "output_type": "display_data"
    }
   ],
   "source": [
    "from sklearn.metrics import confusion_matrix\n",
    "import itertools\n",
    "\n",
    "def plot_confusion_matrix(cm, classes,\n",
    "                          normalize=False,\n",
    "                          title='Confusion matrix',\n",
    "                          cmap=plt.cm.Blues):\n",
    "\n",
    "    plt.imshow(cm, interpolation='nearest', cmap=cmap)\n",
    "    plt.title(title)\n",
    "    plt.colorbar()\n",
    "    tick_marks = np.arange(len(classes))\n",
    "    plt.xticks(tick_marks, classes, rotation=90)\n",
    "    plt.yticks(tick_marks, classes)\n",
    "\n",
    "    if normalize:\n",
    "        cm = cm.astype('float') / cm.sum(axis=1)[:, np.newaxis]\n",
    "        \n",
    "    #print(cm)\n",
    "\n",
    "    fmt = '.2f' if normalize else 'd'\n",
    "    thresh = cm.max() / 2.\n",
    "    for i, j in itertools.product(range(cm.shape[0]), range(cm.shape[1])):\n",
    "        plt.text(j, i, format(cm[i, j], fmt),\n",
    "                 horizontalalignment=\"center\",\n",
    "                 color=\"black\" if cm[i, j] > thresh else \"black\")\n",
    "    plt.tight_layout()\n",
    "    plt.ylabel('True label')\n",
    "    plt.xlabel('Predicted label')\n",
    "    \n",
    "X_train_jaket, X_test_jaket, y_train_jaket, y_test_jaket = train_test_split(train_data_jaket, label_jaket, train_size=0.8, random_state=42, shuffle=True)\n",
    "clf4.fit(X_train_jaket, y_train_jaket)\n",
    "y_pred_jaket = clf4.predict(X_test_jaket)\n",
    "cnf_matrix = confusion_matrix(y_test_jaket, y_pred_jaket)\n",
    "np.set_printoptions(precision=2)\n",
    "# Plot normalized confusion matrix\n",
    "plt.figure()\n",
    "plot_confusion_matrix(cnf_matrix, classes=sorted(list(set(y_test_jaket))), normalize=True, title='Confusion matrix-Jaket')\n",
    "plt.show()"
   ]
  },
  {
   "cell_type": "code",
   "execution_count": null,
   "metadata": {
    "collapsed": true
   },
   "outputs": [],
   "source": []
  }
 ],
 "metadata": {
  "kernelspec": {
   "display_name": "Python 2",
   "language": "python",
   "name": "python2"
  },
  "language_info": {
   "codemirror_mode": {
    "name": "ipython",
    "version": 2
   },
   "file_extension": ".py",
   "mimetype": "text/x-python",
   "name": "python",
   "nbconvert_exporter": "python",
   "pygments_lexer": "ipython2",
   "version": "2.7.6"
  }
 },
 "nbformat": 4,
 "nbformat_minor": 0
}
